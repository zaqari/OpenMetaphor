{
 "cells": [
  {
   "cell_type": "markdown",
   "metadata": {
    "collapsed": true
   },
   "source": [
    "# Vector-Axes Implementation of Kao et al. 2014\n",
    "\n",
    "### Importing packages"
   ]
  },
  {
   "cell_type": "code",
   "execution_count": null,
   "metadata": {},
   "outputs": [],
   "source": [
    "import RSA.setup as s\n",
    "from RSA.byRSAz import *"
   ]
  },
  {
   "cell_type": "markdown",
   "metadata": {},
   "source": [
    "### Setting up configuration files & model"
   ]
  },
  {
   "cell_type": "code",
   "execution_count": null,
   "metadata": {},
   "outputs": [],
   "source": [
    "#Imports validated data from Kao et al. 2014\n",
    "dfde = s.pd.read_csv('data/kao-F-ANT.csv')\n",
    "\n",
    "#Create a configuration class that generates relevant model inputs--\n",
    "# U (source; s), F (intents, i), and A.\n",
    "cf = s.config(sources='data/config/GLOVe/SOURCE.csv', intents='data/config/GLOVe/INTENTS.csv', axes='data/config/GLOVe/AXES.csv')\n",
    "l = mod(cf)"
   ]
  },
  {
   "cell_type": "markdown",
   "metadata": {},
   "source": [
    "### Validating feature extraction accuracy"
   ]
  },
  {
   "cell_type": "code",
   "execution_count": null,
   "metadata": {},
   "outputs": [],
   "source": [
    "data = []\n",
    "for row in dfde.values:\n",
    "    sel_f = cf.sel_intent([row[-1]])\n",
    "    \n",
    "    try:\n",
    "        vv = l.by_RSA.SNda(row[0], [row[3]])\n",
    "        res = np.around(vv[0].view(-1)[sel_f].item(), 3)\n",
    "        max_item = cf.intent([vv[0].view(-1).argmax().item()])[0]\n",
    "        max_per = np.around(vv[0].view(-1).max().item(), 3)\n",
    "\n",
    "        data += [[row[0], row[-1], res, max_item, max_per]]\n",
    "    \n",
    "    except IndexError:\n",
    "        print(row[3])\n",
    "\n",
    "df_report = pd.DataFrame(np.array(data), columns=['animal', 'f', 'P(f)', 'max.f', 'max%'])\n"
   ]
  },
  {
   "cell_type": "markdown",
   "metadata": {},
   "source": [
    "### Model score"
   ]
  },
  {
   "cell_type": "code",
   "execution_count": null,
   "metadata": {},
   "outputs": [],
   "source": [
    "df_report['TRUTH'] = df_report['f'] == df_report['max.f']\n",
    "df_report['TRUTH'].mean()"
   ]
  },
  {
   "cell_type": "markdown",
   "metadata": {},
   "source": [
    "### Validating how well the model can \"pull out\" a specific f|u"
   ]
  },
  {
   "cell_type": "code",
   "execution_count": null,
   "metadata": {},
   "outputs": [],
   "source": [
    "U = cf.As.unsqueeze(1) * cf.Ai\n",
    "\n",
    "#Validating the number of times that u is closer to f than other U\n",
    "data = []\n",
    "for row in dfde.values:\n",
    "    vals = U[:,cf.sel_intent([row[-1]]),cf.sel_axis([row[3]])]\n",
    "    u = vals[cf.sel_source([row[0]])].view(-1)\n",
    "    resp = (u >= vals).float().mean()\n",
    "    data.append([row[0], row[3], row[-1], np.around(resp.item(),3)])\n",
    "data = pd.DataFrame(np.array(data).reshape(-1,4), columns=['animal', 'axis', 'f', '%>'])"
   ]
  }
 ],
 "metadata": {
  "kernelspec": {
   "display_name": "Python 3",
   "language": "python",
   "name": "python3"
  },
  "language_info": {
   "codemirror_mode": {
    "name": "ipython",
    "version": 3
   },
   "file_extension": ".py",
   "mimetype": "text/x-python",
   "name": "python",
   "nbconvert_exporter": "python",
   "pygments_lexer": "ipython3",
   "version": "3.6.8"
  }
 },
 "nbformat": 4,
 "nbformat_minor": 1
}
