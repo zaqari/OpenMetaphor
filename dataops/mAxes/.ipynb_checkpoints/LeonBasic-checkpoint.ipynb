{
 "cells": [
  {
   "cell_type": "markdown",
   "metadata": {
    "collapsed": true
   },
   "source": [
    "So, you need to know that for starters, Leon's equations break down as follows:\n",
    "\n",
    "$$ L_0 \\propto N(\\mu= \\frac{\\sigma_1^2 \\sigma_2^2}{\\sigma_1^2 + \\sigma_2^2} \\frac{E(topic)+E(vehicle)}{\\sigma_1^2 \\sigma_2^2}, \\sigma^2 = \\frac{\\sigma_1^2 \\sigma_2^2}{\\sigma_1^2 + \\sigma_2^2}  $$\n",
    "\n",
    "and erstwhile, S1 is the projection of all points in that region onto a set of adjectives calculated as being orthogonal to the highest density region. The thought is that this reverse engineers the process of selecting an adjective, and then using that to project into a target region--aka, L0.\n",
    "\n",
    "Operationally, we can shorten ALL of this to the following:\n",
    "\n",
    "$$ a \\propto cosineSimilarity(A, \\mu_{ST}) $$"
   ]
  },
  {
   "cell_type": "code",
   "execution_count": null,
   "metadata": {},
   "outputs": [],
   "source": [
    "import axesRSA.setup as s\n",
    "from axesRSA.vLn import *\n",
    "\n",
    "dfde = s.pd.read_csv('kao-animal-descriptors.csv')\n",
    "dfreport = s.pd.read_csv('animal-utility-scores.csv')\n",
    "average_average = []\n",
    "cf = s.config()\n",
    "sj = Lz(cf)\n",
    "sa = Ln(cf)\n",
    "\n",
    "whale = cf.s[cf.source()=='whale']\n",
    "sel = (cf.intent() == np.array(['large', 'majestic', 'graceful', 'wet', 'quacking']).reshape(-1,1)).sum(axis=0).astype(np.bool)\n",
    "print(sel.sum(), cf.intent(sel))\n",
    "adjs = cf.i[sel]\n",
    "projections = vector_projection(whale, cf.i).squeeze(0)\n",
    "gg = cos(whale, projections)/cos(whale, projections).sum()"
   ]
  }
 ],
 "metadata": {
  "kernelspec": {
   "display_name": "Python 3",
   "language": "python",
   "name": "python3"
  },
  "language_info": {
   "codemirror_mode": {
    "name": "ipython",
    "version": 3
   },
   "file_extension": ".py",
   "mimetype": "text/x-python",
   "name": "python",
   "nbconvert_exporter": "python",
   "pygments_lexer": "ipython3",
   "version": "3.6.5"
  }
 },
 "nbformat": 4,
 "nbformat_minor": 1
}
