{
 "cells": [
  {
   "cell_type": "markdown",
   "metadata": {
    "collapsed": true
   },
   "source": [
    "# Vector-Axes Implementation of Kao et al. 2014\n",
    "\n",
    "### Importing packages"
   ]
  },
  {
   "cell_type": "code",
   "execution_count": null,
   "metadata": {},
   "outputs": [],
   "source": [
    "import axesRSA.setup as s\n",
    "from axesRSA.RSA import *"
   ]
  },
  {
   "cell_type": "markdown",
   "metadata": {},
   "source": [
    "### Setting up configuration files & model"
   ]
  },
  {
   "cell_type": "code",
   "execution_count": null,
   "metadata": {},
   "outputs": [],
   "source": [
    "#Imports validated data from Kao et al. 2014\n",
    "dfde = s.pd.read_csv('kao-F.csv')\n",
    "\n",
    "#Create a configuration class that generates relevant model inputs--\n",
    "# U (source term; s), F (intents [features], f), and A (dimensions of meaning).\n",
    "cf = s.config(sources='data/config/GLOVe/SOURCE.csv', intents='data/config/GLOVe/INTENTS.csv',\n",
    "              axes='data/config/GLOVe/AXES.csv')\n",
    "l = mod(cf)"
   ]
  },
  {
   "cell_type": "markdown",
   "metadata": {},
   "source": [
    "## $P(F_a|c_A)$ and the Literal Listener\n",
    "\n",
    "$$ P(F_a|c_A) = P_{\\mathcal{N}_{\\mathcal{T}[0,\\infty]}}\\left( \\left( \\frac{F_A-c_A}{F_A} \\right)^2 \\bigg| \\mu=0, \\sigma=.8 \\right)$$\n",
    "\n",
    "$$ L_0(F_A, c_A|u) = \\begin{cases} P(F_a|c_A) & \\text{if $c=u$} \\\\ 0 & otherwise \\end{cases} $$\n"
   ]
  },
  {
   "cell_type": "code",
   "execution_count": 1,
   "metadata": {
    "pycharm": {
     "name": "#%%\n"
    }
   },
   "outputs": [
    {
     "ename": "NameError",
     "evalue": "name 'l' is not defined",
     "output_type": "error",
     "traceback": [
      "\u001B[0;31m---------------------------------------------------------------------------\u001B[0m",
      "\u001B[0;31mNameError\u001B[0m                                 Traceback (most recent call last)",
      "\u001B[0;32m<ipython-input-1-ba853ed21feb>\u001B[0m in \u001B[0;36m<module>\u001B[0;34m\u001B[0m\n\u001B[1;32m      1\u001B[0m \u001B[0;31m#L0 returns a matrix of probabilities of shape\u001B[0m\u001B[0;34m\u001B[0m\u001B[0;34m\u001B[0m\u001B[0;34m\u001B[0m\u001B[0m\n\u001B[1;32m      2\u001B[0m \u001B[0;31m# Features x Source Terms x Dimensions of Meaning\u001B[0m\u001B[0;34m\u001B[0m\u001B[0;34m\u001B[0m\u001B[0;34m\u001B[0m\u001B[0m\n\u001B[0;32m----> 3\u001B[0;31m \u001B[0mL0\u001B[0m \u001B[0;34m=\u001B[0m \u001B[0ml\u001B[0m\u001B[0;34m.\u001B[0m\u001B[0ml0\u001B[0m\u001B[0;34m(\u001B[0m\u001B[0;34m)\u001B[0m\u001B[0;34m\u001B[0m\u001B[0;34m\u001B[0m\u001B[0m\n\u001B[0m\u001B[1;32m      4\u001B[0m \u001B[0;34m\u001B[0m\u001B[0m\n\u001B[1;32m      5\u001B[0m \u001B[0;31m#SN returns a matrix of comparative probabilities between\u001B[0m\u001B[0;34m\u001B[0m\u001B[0;34m\u001B[0m\u001B[0;34m\u001B[0m\u001B[0m\n",
      "\u001B[0;31mNameError\u001B[0m: name 'l' is not defined"
     ]
    }
   ],
   "source": [
    "#L0 returns a matrix of probabilities of shape\n",
    "# Features x Source Terms x Dimensions of Meaning\n",
    "L0 = l.l0()"
   ]
  },
  {
   "cell_type": "markdown",
   "source": [
    "## Utility and Speaker Function\n",
    "\n",
    "$$ U_1(u|a) = log \\sum_c \\delta_{A=a} L_0(F_A, c_A|u) $$\n",
    "\n",
    "$$ S_1(u|a) \\propto e^{\\lambda U_1(u|a)} $$\n"
   ],
   "metadata": {
    "collapsed": false,
    "pycharm": {
     "name": "#%% md\n"
    }
   }
  },
  {
   "cell_type": "code",
   "execution_count": null,
   "outputs": [],
   "source": [
    "#SN returns a matrix of comparative probabilities between\n",
    "# of a given utterance compared to different possible utterances\n",
    "# of shape Features x specific_source_term x Dimensions of Meaning\n",
    "SNN = l.snn('whale')\n",
    "\n",
    "#For reference, we limit the outputs of SNN using the direct-delta\n",
    "# function, which is implemented as follows:\n",
    "delta = cf.sel_axis(['large-small'])\n",
    "SNN = SNN * delta"
   ],
   "metadata": {
    "collapsed": false,
    "pycharm": {
     "name": "#%%\n"
    }
   }
  },
  {
   "cell_type": "markdown",
   "source": [
    "## Pragmatic Listener\n",
    "\n",
    "$$ L_1(f,c|u) \\propto P(c) \\sum_A P(a)P(F_A|c_A)S_1(u|a) $$"
   ],
   "metadata": {
    "collapsed": false,
    "pycharm": {
     "name": "#%% md\n"
    }
   }
  },
  {
   "cell_type": "code",
   "execution_count": null,
   "outputs": [],
   "source": [
    "#LN returns a matrix a matrix of probabilities\n",
    "pq = torch.zeros(size=(len(cf.ax),))\n",
    "LNN = l.lnn(u='whale',\n",
    "            c='man',\n",
    "            pq=pq,\n",
    "            pc=torch.FloatTensor([.01,.99]),\n",
    "            lam=3)\n",
    "\n"
   ],
   "metadata": {
    "collapsed": false,
    "pycharm": {
     "name": "#%%\n"
    }
   }
  }
 ],
 "metadata": {
  "kernelspec": {
   "display_name": "Python 3",
   "language": "python",
   "name": "python3"
  },
  "language_info": {
   "codemirror_mode": {
    "name": "ipython",
    "version": 3
   },
   "file_extension": ".py",
   "mimetype": "text/x-python",
   "name": "python",
   "nbconvert_exporter": "python",
   "pygments_lexer": "ipython3",
   "version": "3.6.5"
  }
 },
 "nbformat": 4,
 "nbformat_minor": 1
}